{
 "cells": [
  {
   "cell_type": "code",
   "execution_count": null,
   "metadata": {},
   "outputs": [],
   "source": [
    "import matplotlib.pyplot as plt\n",
    "import numpy as np\n",
    "\n",
    "fs = 44100  # Sampling frequency (Hz)\n",
    "duration = 1.0  # seconds\n",
    "t = np.linspace(0, duration, int(fs * duration), endpoint=False)\n",
    "\n",
    "f_carrier = 1000  # Carrier frequency (Hz)\n",
    "f_mod = 5  # Modulation frequency (Hz)\n",
    "mod_index = 0.5  # Modulation index (depth, 0–1 typical)\n",
    "\n",
    "# Carrier: the “base” high-frequency sine wave\n",
    "carrier = np.sin(2 * np.pi * f_carrier * t)\n",
    "\n",
    "# Modulator: slow sine that controls the amplitude\n",
    "modulator = 1 + mod_index * np.sin(2 * np.pi * f_mod * t)\n",
    "\n",
    "am_signal = carrier * modulator\n",
    "\n",
    "plt.figure(figsize=(10, 5))\n",
    "plt.plot(t[:1000], am_signal[:1000])\n",
    "plt.title(\"Amplitude Modulated Signal\")\n",
    "plt.xlabel(\"Time [s]\")\n",
    "plt.ylabel(\"Amplitude\")\n",
    "plt.grid(True)\n",
    "plt.show()\n"
   ]
  }
 ],
 "metadata": {
  "language_info": {
   "name": "python"
  }
 },
 "nbformat": 4,
 "nbformat_minor": 2
}
